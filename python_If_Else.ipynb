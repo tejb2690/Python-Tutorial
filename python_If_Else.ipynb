{
  "nbformat": 4,
  "nbformat_minor": 0,
  "metadata": {
    "colab": {
      "provenance": []
    },
    "kernelspec": {
      "name": "python3",
      "display_name": "Python 3"
    },
    "language_info": {
      "name": "python"
    }
  },
  "cells": [
    {
      "cell_type": "markdown",
      "source": [
        " **If - Else**"
      ],
      "metadata": {
        "id": "qt5GfJ9t3GbA"
      }
    },
    {
      "cell_type": "code",
      "execution_count": null,
      "metadata": {
        "colab": {
          "base_uri": "https://localhost:8080/"
        },
        "id": "bzA03YHH2-Io",
        "outputId": "e749e2e3-7870-4ffc-ad6d-5c4cdb690277"
      },
      "outputs": [
        {
          "output_type": "stream",
          "name": "stdout",
          "text": [
            "Jim Moriarity\n"
          ]
        }
      ],
      "source": [
        "if (3>2):\n",
        "  print(\"Jim Moriarity\")"
      ]
    },
    {
      "cell_type": "code",
      "source": [
        "if (3>4):\n",
        "  print(\"Jim Moriarity\")\n",
        "else:\n",
        "  print(\"Serlock Holmes\")"
      ],
      "metadata": {
        "colab": {
          "base_uri": "https://localhost:8080/"
        },
        "id": "d_ZeWP233lbD",
        "outputId": "84a25517-8f72-45b1-b492-8ee0cabdeeae"
      },
      "execution_count": null,
      "outputs": [
        {
          "output_type": "stream",
          "name": "stdout",
          "text": [
            "Serlock Holmes\n"
          ]
        }
      ]
    },
    {
      "cell_type": "code",
      "source": [
        "a=200\n",
        "b=100\n",
        "if(b>a):\n",
        "  print(\"b is greare than a\")\n",
        "elif(b==a):\n",
        "  print(\"b is equal to a\")\n",
        "else:\n",
        "  print(\"a is greater than b\")"
      ],
      "metadata": {
        "colab": {
          "base_uri": "https://localhost:8080/"
        },
        "id": "-jK5HWsM9XF4",
        "outputId": "55cf41e1-2b62-485a-ee63-5a3e63294bde"
      },
      "execution_count": null,
      "outputs": [
        {
          "output_type": "stream",
          "name": "stdout",
          "text": [
            "a is greater than b\n"
          ]
        }
      ]
    },
    {
      "cell_type": "code",
      "source": [
        "str1 = \"John Watson\"\n",
        "if('h' in str1):\n",
        "  print('character is present')"
      ],
      "metadata": {
        "colab": {
          "base_uri": "https://localhost:8080/"
        },
        "id": "LIrxwDks4HCi",
        "outputId": "4ef81417-e6c7-4896-fe50-73ea22a0236f"
      },
      "execution_count": null,
      "outputs": [
        {
          "output_type": "stream",
          "name": "stdout",
          "text": [
            "character is present\n"
          ]
        }
      ]
    },
    {
      "cell_type": "markdown",
      "source": [
        "# Assignment\n",
        "\n",
        "\n",
        "\n",
        "1.   Check if vowel is present in string\n",
        "2.   Check if vowel is not present in string\n",
        "\n"
      ],
      "metadata": {
        "id": "8Ah-tbU-7frI"
      }
    },
    {
      "cell_type": "code",
      "source": [
        "if('a'or'e' or 'i'or 'o' or 'u' in str1):\n",
        "  print(\"vowel is present in string\")"
      ],
      "metadata": {
        "colab": {
          "base_uri": "https://localhost:8080/"
        },
        "id": "kl8PxXPk6vIi",
        "outputId": "edac0527-a24a-4bd0-bbe6-b7af90117648"
      },
      "execution_count": null,
      "outputs": [
        {
          "output_type": "stream",
          "name": "stdout",
          "text": [
            "vowel is present in string\n"
          ]
        }
      ]
    },
    {
      "cell_type": "code",
      "source": [
        "str2 = \"pynb\"\n",
        "if('a'or'e' or 'i'or 'o' or 'u' not in str2):\n",
        "  print(\"vowel is not present in string\")"
      ],
      "metadata": {
        "colab": {
          "base_uri": "https://localhost:8080/"
        },
        "id": "WXiPK7GK8KQX",
        "outputId": "9c841918-7edd-4372-f14a-ab51db87fe1a"
      },
      "execution_count": null,
      "outputs": [
        {
          "output_type": "stream",
          "name": "stdout",
          "text": [
            "vowel is not present in string\n"
          ]
        }
      ]
    },
    {
      "cell_type": "markdown",
      "source": [
        "# Short hand if - Else"
      ],
      "metadata": {
        "id": "ntT4j-Oy-rw8"
      }
    },
    {
      "cell_type": "code",
      "source": [
        "print(\"a\") if (a>b) else print(\"b\")"
      ],
      "metadata": {
        "colab": {
          "base_uri": "https://localhost:8080/"
        },
        "id": "KgEFUlUd-pVd",
        "outputId": "96125efc-5d30-4fc7-d2f7-7f7e798a260c"
      },
      "execution_count": null,
      "outputs": [
        {
          "output_type": "stream",
          "name": "stdout",
          "text": [
            "a\n"
          ]
        }
      ]
    },
    {
      "cell_type": "markdown",
      "source": [
        "# Nested if"
      ],
      "metadata": {
        "id": "PrIAupo7_giC"
      }
    },
    {
      "cell_type": "code",
      "source": [
        "c = -1\n",
        "if(c<20):\n",
        "  if(c>10):\n",
        "    print(\"and is greater than 10\")\n",
        "  elif(c<10):\n",
        "    print(\"c is less than 10\")\n",
        "    if(c<0):\n",
        "      pass\n",
        "elif(c==20):\n",
        "  print(\"c is equal to 20\")\n",
        "else:\n",
        "  print(\"c is greater than 20\")"
      ],
      "metadata": {
        "colab": {
          "base_uri": "https://localhost:8080/"
        },
        "id": "cC0b0C-D_nOs",
        "outputId": "7d688d0d-908f-4cf7-aebe-f253488e32c4"
      },
      "execution_count": 54,
      "outputs": [
        {
          "output_type": "stream",
          "name": "stdout",
          "text": [
            "c is less than 10\n"
          ]
        }
      ]
    }
  ]
}