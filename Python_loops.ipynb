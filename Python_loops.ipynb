{
  "nbformat": 4,
  "nbformat_minor": 0,
  "metadata": {
    "colab": {
      "provenance": []
    },
    "kernelspec": {
      "name": "python3",
      "display_name": "Python 3"
    },
    "language_info": {
      "name": "python"
    }
  },
  "cells": [
    {
      "cell_type": "markdown",
      "source": [
        "# **While loops**"
      ],
      "metadata": {
        "id": "WoUQ-5YDzZTg"
      }
    },
    {
      "cell_type": "code",
      "execution_count": null,
      "metadata": {
        "id": "TniP_UeJyi_p",
        "colab": {
          "base_uri": "https://localhost:8080/"
        },
        "outputId": "d0a8a516-ae82-4671-a5da-61a3acfd8f06"
      },
      "outputs": [
        {
          "output_type": "stream",
          "name": "stdout",
          "text": [
            "1 is less than 5\n",
            "2 is less than 5\n",
            "3 is less than 5\n",
            "4 is less than 5\n"
          ]
        }
      ],
      "source": [
        "i= 1\n",
        "while (i<5):\n",
        "  print(f\"{i} is less than 5\")\n",
        "  i+=1\n"
      ]
    },
    {
      "cell_type": "code",
      "source": [
        "i= 1\n",
        "while (i<5):\n",
        "  print(\"{} is less than 5\".format(i))\n",
        "  #print(str.format(i))\n",
        "\n",
        "  i+=1"
      ],
      "metadata": {
        "colab": {
          "base_uri": "https://localhost:8080/"
        },
        "id": "lup2LG9sjbza",
        "outputId": "34bf9504-d8f1-462c-d722-a0cb5a8151bc"
      },
      "execution_count": null,
      "outputs": [
        {
          "output_type": "stream",
          "name": "stdout",
          "text": [
            "1 is less than 5\n",
            "2 is less than 5\n",
            "3 is less than 5\n",
            "4 is less than 5\n"
          ]
        }
      ]
    },
    {
      "cell_type": "code",
      "source": [
        "#break\n",
        "i=1\n",
        "while(i<10):\n",
        "  print(i)\n",
        "  if(i==5):\n",
        "    break\n",
        "  i+=1"
      ],
      "metadata": {
        "id": "-a33EpSWn5Bu",
        "colab": {
          "base_uri": "https://localhost:8080/"
        },
        "outputId": "24751cda-3084-4ae5-e35a-aab0abb9f96c"
      },
      "execution_count": 7,
      "outputs": [
        {
          "output_type": "stream",
          "name": "stdout",
          "text": [
            "1\n",
            "2\n",
            "3\n",
            "4\n",
            "5\n"
          ]
        }
      ]
    },
    {
      "cell_type": "code",
      "source": [
        "str1 = \"baker street\"\n",
        "n= len(str1)\n",
        "i=0\n",
        "while(i<n):\n",
        "  print(str1[i])\n",
        "  i+=1"
      ],
      "metadata": {
        "colab": {
          "base_uri": "https://localhost:8080/"
        },
        "id": "NgXeJPTUsJYU",
        "outputId": "6c8566e1-3019-48f4-d810-669e64ab263f"
      },
      "execution_count": 11,
      "outputs": [
        {
          "output_type": "stream",
          "name": "stdout",
          "text": [
            "b\n",
            "a\n",
            "k\n",
            "e\n",
            "r\n",
            " \n",
            "s\n",
            "t\n",
            "r\n",
            "e\n",
            "e\n",
            "t\n"
          ]
        }
      ]
    },
    {
      "cell_type": "code",
      "source": [
        "str1 = \"baker street\"\n",
        "n= len(str1)\n",
        "i=0\n",
        "while(i<n):\n",
        "  print(str1[i])\n",
        "  if(str1[i]==\" \"):\n",
        "    break\n",
        "  i+=1"
      ],
      "metadata": {
        "colab": {
          "base_uri": "https://localhost:8080/"
        },
        "id": "2LFvRkJrs38X",
        "outputId": "1d698c17-93ec-4939-f0db-0bbe0146a654"
      },
      "execution_count": 22,
      "outputs": [
        {
          "output_type": "stream",
          "name": "stdout",
          "text": [
            "b\n",
            "a\n",
            "k\n",
            "e\n",
            "r\n",
            " \n"
          ]
        }
      ]
    },
    {
      "cell_type": "markdown",
      "source": [
        "# Continue\n",
        "stop the current iteration and continue with the next one"
      ],
      "metadata": {
        "id": "dXKRWOL7uSNw"
      }
    },
    {
      "cell_type": "code",
      "source": [
        "i=-1\n",
        "while(i<11):\n",
        "  #print(str1[i])\n",
        "  i+=1\n",
        "  if(str1[i]=='e'):\n",
        "    continue\n",
        "  print(str1[i])\n",
        "  #i+=1\n",
        ""
      ],
      "metadata": {
        "colab": {
          "base_uri": "https://localhost:8080/"
        },
        "id": "nqHqcoGUxr_p",
        "outputId": "9ffab553-2717-438d-ea5a-869aa3fd1aa3"
      },
      "execution_count": 44,
      "outputs": [
        {
          "output_type": "stream",
          "name": "stdout",
          "text": [
            "b\n",
            "a\n",
            "k\n",
            "r\n",
            " \n",
            "s\n",
            "t\n",
            "r\n",
            "t\n"
          ]
        }
      ]
    },
    {
      "cell_type": "code",
      "source": [
        " i = 1\n",
        "while i < 6:\n",
        "  print(i)\n",
        "  i += 1\n",
        "else:\n",
        "  print(\"i is no longer less than 6\")"
      ],
      "metadata": {
        "colab": {
          "base_uri": "https://localhost:8080/"
        },
        "id": "5suq64seyMbq",
        "outputId": "0a5dc6c0-4dd0-4698-c151-1c30aaeff3e5"
      },
      "execution_count": 45,
      "outputs": [
        {
          "output_type": "stream",
          "name": "stdout",
          "text": [
            "1\n",
            "2\n",
            "3\n",
            "4\n",
            "5\n",
            "i is no longer less than 6\n"
          ]
        }
      ]
    },
    {
      "cell_type": "markdown",
      "source": [
        "# For loop"
      ],
      "metadata": {
        "id": "Vt3Z7fE349YR"
      }
    },
    {
      "cell_type": "code",
      "source": [
        "str3 = 'mycroft holmes'\n",
        "for i in str3:\n",
        "  print(i)"
      ],
      "metadata": {
        "colab": {
          "base_uri": "https://localhost:8080/"
        },
        "id": "FG8DkQJU5Fry",
        "outputId": "4ccc47b7-c289-4767-e229-0841a62b8d95"
      },
      "execution_count": 46,
      "outputs": [
        {
          "output_type": "stream",
          "name": "stdout",
          "text": [
            "m\n",
            "y\n",
            "c\n",
            "r\n",
            "o\n",
            "f\n",
            "t\n",
            " \n",
            "h\n",
            "o\n",
            "l\n",
            "m\n",
            "e\n",
            "s\n"
          ]
        }
      ]
    },
    {
      "cell_type": "code",
      "source": [
        "#break statement\n",
        "for i in str3:\n",
        "  print(i)\n",
        "  if(i=='o'):\n",
        "    break"
      ],
      "metadata": {
        "colab": {
          "base_uri": "https://localhost:8080/"
        },
        "id": "B8WTH3Je7pdI",
        "outputId": "c862ea80-a50a-45b2-f2bc-405757ee9b39"
      },
      "execution_count": 48,
      "outputs": [
        {
          "output_type": "stream",
          "name": "stdout",
          "text": [
            "m\n",
            "y\n",
            "c\n",
            "r\n",
            "o\n"
          ]
        }
      ]
    },
    {
      "cell_type": "code",
      "source": [
        "#continue\n",
        "for i in str3:\n",
        "  if(i=='o'):\n",
        "    continue\n",
        "  print(i)"
      ],
      "metadata": {
        "colab": {
          "base_uri": "https://localhost:8080/"
        },
        "id": "Q3X0Yb1e8Np_",
        "outputId": "782d0dcd-c0b1-4d37-9cab-a949384c1ccd"
      },
      "execution_count": 51,
      "outputs": [
        {
          "output_type": "stream",
          "name": "stdout",
          "text": [
            "m\n",
            "y\n",
            "c\n",
            "r\n",
            "f\n",
            "t\n",
            " \n",
            "h\n",
            "l\n",
            "m\n",
            "e\n",
            "s\n"
          ]
        }
      ]
    },
    {
      "cell_type": "code",
      "source": [
        "#range function\n",
        "#The range() function returns a sequence of numbers, starting from 0 by default, and increments by 1 (by default), and ends at a specified number.\n",
        "for i in range(len(str3)):\n",
        "  print(str3[i])"
      ],
      "metadata": {
        "colab": {
          "base_uri": "https://localhost:8080/"
        },
        "id": "mGMo4EhM8kZz",
        "outputId": "e9237f82-2c5a-436c-f4ce-5333eec6eff1"
      },
      "execution_count": 53,
      "outputs": [
        {
          "output_type": "stream",
          "name": "stdout",
          "text": [
            "m\n",
            "y\n",
            "c\n",
            "r\n",
            "o\n",
            "f\n",
            "t\n",
            " \n",
            "h\n",
            "o\n",
            "l\n",
            "m\n",
            "e\n",
            "s\n"
          ]
        }
      ]
    },
    {
      "cell_type": "code",
      "source": [
        "#incrementing steps\n",
        "for i in range(0,len(str3),2):\n",
        "  print(str3[i])\n"
      ],
      "metadata": {
        "colab": {
          "base_uri": "https://localhost:8080/"
        },
        "id": "tSgrd3r39lQD",
        "outputId": "77bbb366-720f-42a7-811e-281dc8909ec0"
      },
      "execution_count": 64,
      "outputs": [
        {
          "output_type": "stream",
          "name": "stdout",
          "text": [
            "m\n",
            "c\n",
            "o\n",
            "t\n",
            "h\n",
            "l\n",
            "e\n"
          ]
        }
      ]
    },
    {
      "cell_type": "code",
      "source": [
        "#else\n",
        "for i in range(0,len(str3),2):\n",
        "  print(str3[i])\n",
        "else:\n",
        "  print(\"end of the string\")"
      ],
      "metadata": {
        "colab": {
          "base_uri": "https://localhost:8080/"
        },
        "id": "kITeWizc-bdM",
        "outputId": "7f16414b-bf68-4a37-8ef1-a2c1bbae222e"
      },
      "execution_count": 65,
      "outputs": [
        {
          "output_type": "stream",
          "name": "stdout",
          "text": [
            "m\n",
            "c\n",
            "o\n",
            "t\n",
            "h\n",
            "l\n",
            "e\n",
            "end of the string\n"
          ]
        }
      ]
    },
    {
      "cell_type": "code",
      "source": [
        "#Nested\n",
        "str5 = \"mary watson\"\n",
        "str6 = \"mrs hudson\"\n",
        "for i in range(0, 4):\n",
        "  for j in range(0, 4):\n",
        "    print(str5[i]+str6[j])"
      ],
      "metadata": {
        "colab": {
          "base_uri": "https://localhost:8080/"
        },
        "id": "ppXuWqSS-sTR",
        "outputId": "0e2df10a-3a76-42c3-b407-a7ece955951a"
      },
      "execution_count": 71,
      "outputs": [
        {
          "output_type": "stream",
          "name": "stdout",
          "text": [
            "mm\n",
            "mr\n",
            "ms\n",
            "m \n",
            "am\n",
            "ar\n",
            "as\n",
            "a \n",
            "rm\n",
            "rr\n",
            "rs\n",
            "r \n",
            "ym\n",
            "yr\n",
            "ys\n",
            "y \n"
          ]
        }
      ]
    }
  ]
}